{
  "nbformat": 4,
  "nbformat_minor": 0,
  "metadata": {
    "colab": {
      "name": "Numpy ",
      "provenance": [],
      "collapsed_sections": []
    },
    "kernelspec": {
      "name": "python3",
      "display_name": "Python 3"
    },
    "language_info": {
      "name": "python"
    }
  },
  "cells": [
    {
      "cell_type": "code",
      "execution_count": 4,
      "metadata": {
        "colab": {
          "base_uri": "https://localhost:8080/"
        },
        "id": "BlBpN7_GwXWb",
        "outputId": "53d1ce31-0e88-4ce8-b931-f2cfd0083432"
      },
      "outputs": [
        {
          "output_type": "stream",
          "name": "stdout",
          "text": [
            "Looking in indexes: https://pypi.org/simple, https://us-python.pkg.dev/colab-wheels/public/simple/\n",
            "Collecting np\n",
            "  Downloading np-1.0.2.tar.gz (7.4 kB)\n",
            "Building wheels for collected packages: np\n",
            "  Building wheel for np (setup.py) ... \u001b[?25l\u001b[?25hdone\n",
            "  Created wheel for np: filename=np-1.0.2-py3-none-any.whl size=13676 sha256=c0d6332b62f7f8631d31e3ef2e1b4f2be1193636163b09fc73c3073b21a4c896\n",
            "  Stored in directory: /root/.cache/pip/wheels/8d/31/5b/f3f27c678f2b3ad7e29903ed09bb7446717fd4c8b35f53973a\n",
            "Successfully built np\n",
            "Installing collected packages: np\n",
            "Successfully installed np-1.0.2\n"
          ]
        }
      ],
      "source": [
        "! pip install np"
      ]
    },
    {
      "cell_type": "code",
      "source": [
        "import numpy as np"
      ],
      "metadata": {
        "id": "u6QQ7yqWw6rd"
      },
      "execution_count": 5,
      "outputs": []
    },
    {
      "cell_type": "code",
      "source": [
        "agelist =[23,28,11,18,34]\n",
        "age_list =np.array(list)\n",
        "print(agelist)"
      ],
      "metadata": {
        "colab": {
          "base_uri": "https://localhost:8080/"
        },
        "id": "z4kgIHEdyJvF",
        "outputId": "50c16f65-c8b8-45e0-e225-6b563c119492"
      },
      "execution_count": 6,
      "outputs": [
        {
          "output_type": "stream",
          "name": "stdout",
          "text": [
            "[23, 28, 11, 18, 34]\n"
          ]
        }
      ]
    },
    {
      "cell_type": "code",
      "source": [
        "np.random.randint(2,10)"
      ],
      "metadata": {
        "colab": {
          "base_uri": "https://localhost:8080/"
        },
        "id": "qTB89xhMzz_m",
        "outputId": "a9b8f99f-62a9-408e-9207-ad198a104bb2"
      },
      "execution_count": 7,
      "outputs": [
        {
          "output_type": "execute_result",
          "data": {
            "text/plain": [
              "7"
            ]
          },
          "metadata": {},
          "execution_count": 7
        }
      ]
    },
    {
      "cell_type": "code",
      "source": [
        "evn_num=np.arange(start=10,stop=100,step=2)\n",
        "print(evn_num)\n",
        "type(evn_num)"
      ],
      "metadata": {
        "colab": {
          "base_uri": "https://localhost:8080/"
        },
        "id": "TLOozYKD0wcT",
        "outputId": "82c14754-0a6a-4a38-cd4a-229bfe770b6a"
      },
      "execution_count": 8,
      "outputs": [
        {
          "output_type": "stream",
          "name": "stdout",
          "text": [
            "[10 12 14 16 18 20 22 24 26 28 30 32 34 36 38 40 42 44 46 48 50 52 54 56\n",
            " 58 60 62 64 66 68 70 72 74 76 78 80 82 84 86 88 90 92 94 96 98]\n"
          ]
        },
        {
          "output_type": "execute_result",
          "data": {
            "text/plain": [
              "numpy.ndarray"
            ]
          },
          "metadata": {},
          "execution_count": 8
        }
      ]
    },
    {
      "cell_type": "code",
      "source": [
        "nums=np.linspace(start=1,stop=100,num=10)\n",
        "print(nums)\n"
      ],
      "metadata": {
        "colab": {
          "base_uri": "https://localhost:8080/"
        },
        "id": "B4BpVFGM1q6I",
        "outputId": "a2292c92-5f78-4d64-bd63-87585b3173b2"
      },
      "execution_count": 9,
      "outputs": [
        {
          "output_type": "stream",
          "name": "stdout",
          "text": [
            "[  1.  12.  23.  34.  45.  56.  67.  78.  89. 100.]\n"
          ]
        }
      ]
    },
    {
      "cell_type": "code",
      "source": [
        "np.ones(1)"
      ],
      "metadata": {
        "colab": {
          "base_uri": "https://localhost:8080/"
        },
        "id": "PZU448AR2f6T",
        "outputId": "a5bb2c2e-ecf7-4a35-a542-34d1e72579e8"
      },
      "execution_count": 10,
      "outputs": [
        {
          "output_type": "execute_result",
          "data": {
            "text/plain": [
              "array([1.])"
            ]
          },
          "metadata": {},
          "execution_count": 10
        }
      ]
    },
    {
      "cell_type": "code",
      "source": [
        "matrix=np.empty((3,3),dtype=int)\n",
        "print(matrix)"
      ],
      "metadata": {
        "colab": {
          "base_uri": "https://localhost:8080/"
        },
        "id": "6pvVs05F27M0",
        "outputId": "1a611db5-8ecd-4128-8319-ddba0f80f6f5"
      },
      "execution_count": 11,
      "outputs": [
        {
          "output_type": "stream",
          "name": "stdout",
          "text": [
            "[[           22662800                  36                   0]\n",
            " [                  0                   0 7005406607063736886]\n",
            " [3761681506585961773 3258465588949640292 3546413420678571057]]\n"
          ]
        }
      ]
    },
    {
      "cell_type": "code",
      "source": [
        "matrix = np.full((3,3),fill_value=11)\n",
        "print(matrix)"
      ],
      "metadata": {
        "colab": {
          "base_uri": "https://localhost:8080/"
        },
        "id": "IExoPc2r3g-U",
        "outputId": "301df3b1-0693-4cfc-caca-ae3103125b52"
      },
      "execution_count": 12,
      "outputs": [
        {
          "output_type": "stream",
          "name": "stdout",
          "text": [
            "[[11 11 11]\n",
            " [11 11 11]\n",
            " [11 11 11]]\n"
          ]
        }
      ]
    },
    {
      "cell_type": "code",
      "source": [
        "np.identity(5)"
      ],
      "metadata": {
        "colab": {
          "base_uri": "https://localhost:8080/"
        },
        "id": "nuEZPQRb4WpH",
        "outputId": "d57e45fd-9d0a-41e8-cecb-ed669a842f6d"
      },
      "execution_count": 13,
      "outputs": [
        {
          "output_type": "execute_result",
          "data": {
            "text/plain": [
              "array([[1., 0., 0., 0., 0.],\n",
              "       [0., 1., 0., 0., 0.],\n",
              "       [0., 0., 1., 0., 0.],\n",
              "       [0., 0., 0., 1., 0.],\n",
              "       [0., 0., 0., 0., 1.]])"
            ]
          },
          "metadata": {},
          "execution_count": 13
        }
      ]
    },
    {
      "cell_type": "code",
      "source": [
        "books=np.array([(\"learn Python\",\"Data Science Journal\",\"Scala for Data Science\"),(20,23,18)])\n",
        "print(\"Shape of the array is\",books.shape)"
      ],
      "metadata": {
        "colab": {
          "base_uri": "https://localhost:8080/"
        },
        "id": "AbavXbcK6Qz0",
        "outputId": "d7e74382-517c-4ecc-9282-3bf898004ce5"
      },
      "execution_count": 14,
      "outputs": [
        {
          "output_type": "stream",
          "name": "stdout",
          "text": [
            "Shape of the array is (2, 3)\n"
          ]
        }
      ]
    },
    {
      "cell_type": "code",
      "source": [
        "employee = np.array([(\"Charles\",18),(\"Logan\",20),(\"Jessica\",34)])\n",
        "print(\"Created array:\",employee)\n",
        "employee_reshaped = employee.reshape(6,1)\n",
        "print(\"\\nReshaped array:\",employee_reshaped)"
      ],
      "metadata": {
        "colab": {
          "base_uri": "https://localhost:8080/"
        },
        "id": "hEcgbSB17ieh",
        "outputId": "eea17c0e-333c-46d7-d821-0d0a094651f8"
      },
      "execution_count": 15,
      "outputs": [
        {
          "output_type": "stream",
          "name": "stdout",
          "text": [
            "Created array: [['Charles' '18']\n",
            " ['Logan' '20']\n",
            " ['Jessica' '34']]\n",
            "\n",
            "Reshaped array: [['Charles']\n",
            " ['18']\n",
            " ['Logan']\n",
            " ['20']\n",
            " ['Jessica']\n",
            " ['34']]\n"
          ]
        }
      ]
    },
    {
      "cell_type": "code",
      "source": [
        "! pip install numpy"
      ],
      "metadata": {
        "colab": {
          "base_uri": "https://localhost:8080/"
        },
        "id": "I-JV7BUQ4B5V",
        "outputId": "28a5f467-6b7d-4962-a793-d7c2f78644b6"
      },
      "execution_count": 16,
      "outputs": [
        {
          "output_type": "stream",
          "name": "stdout",
          "text": [
            "Looking in indexes: https://pypi.org/simple, https://us-python.pkg.dev/colab-wheels/public/simple/\n",
            "Requirement already satisfied: numpy in /usr/local/lib/python3.7/dist-packages (1.21.6)\n"
          ]
        }
      ]
    },
    {
      "cell_type": "code",
      "source": [
        "import numpy as np"
      ],
      "metadata": {
        "id": "hILanw_f4NOx"
      },
      "execution_count": 17,
      "outputs": []
    },
    {
      "cell_type": "code",
      "source": [
        "age_list=[23,28,11,18,34]\n",
        "age_array=np.array(age_list)\n",
        "print(age_array)\n",
        "type(age_array)"
      ],
      "metadata": {
        "colab": {
          "base_uri": "https://localhost:8080/"
        },
        "id": "jqeitAfJ4Q9h",
        "outputId": "dcbd1435-d64c-488a-85b0-bc5606c5298b"
      },
      "execution_count": 18,
      "outputs": [
        {
          "output_type": "stream",
          "name": "stdout",
          "text": [
            "[23 28 11 18 34]\n"
          ]
        },
        {
          "output_type": "execute_result",
          "data": {
            "text/plain": [
              "numpy.ndarray"
            ]
          },
          "metadata": {},
          "execution_count": 18
        }
      ]
    },
    {
      "cell_type": "code",
      "source": [
        "books=np.array(['Learn Python','Data Science Journal','Scala For Data Science'])\n",
        "print(books)\n",
        "type(books)"
      ],
      "metadata": {
        "colab": {
          "base_uri": "https://localhost:8080/"
        },
        "id": "maIpzl_F5VGt",
        "outputId": "73e9c875-21ef-4de4-e619-af2d665e68f0"
      },
      "execution_count": 19,
      "outputs": [
        {
          "output_type": "stream",
          "name": "stdout",
          "text": [
            "['Learn Python' 'Data Science Journal' 'Scala For Data Science']\n"
          ]
        },
        {
          "output_type": "execute_result",
          "data": {
            "text/plain": [
              "numpy.ndarray"
            ]
          },
          "metadata": {},
          "execution_count": 19
        }
      ]
    },
    {
      "cell_type": "code",
      "source": [
        "np.random.random(size=20)"
      ],
      "metadata": {
        "colab": {
          "base_uri": "https://localhost:8080/"
        },
        "id": "ft4WE6wz6VIT",
        "outputId": "9b34cc54-d689-4bc5-9a65-b0cdbcfb43f7"
      },
      "execution_count": 20,
      "outputs": [
        {
          "output_type": "execute_result",
          "data": {
            "text/plain": [
              "array([0.3895239 , 0.26835787, 0.35492151, 0.0457091 , 0.11359538,\n",
              "       0.79540041, 0.41424229, 0.66995615, 0.02274169, 0.29499358,\n",
              "       0.63268876, 0.13623198, 0.82362191, 0.24309164, 0.44077079,\n",
              "       0.65328637, 0.67703106, 0.53128641, 0.22919233, 0.18021959])"
            ]
          },
          "metadata": {},
          "execution_count": 20
        }
      ]
    },
    {
      "cell_type": "code",
      "source": [
        "np.random.rand(2,3)"
      ],
      "metadata": {
        "colab": {
          "base_uri": "https://localhost:8080/"
        },
        "id": "qRkHsHvl7DGX",
        "outputId": "eabf095c-5072-47ec-f63f-0567484418bb"
      },
      "execution_count": 21,
      "outputs": [
        {
          "output_type": "execute_result",
          "data": {
            "text/plain": [
              "array([[0.14433895, 0.03824263, 0.34477835],\n",
              "       [0.22177176, 0.46042375, 0.70399889]])"
            ]
          },
          "metadata": {},
          "execution_count": 21
        }
      ]
    },
    {
      "cell_type": "code",
      "source": [
        "np.random.randn(2,3)"
      ],
      "metadata": {
        "colab": {
          "base_uri": "https://localhost:8080/"
        },
        "id": "Uq4l8y2T7Jcf",
        "outputId": "17a50b2d-48bb-4879-810e-915e41f8e9c7"
      },
      "execution_count": 22,
      "outputs": [
        {
          "output_type": "execute_result",
          "data": {
            "text/plain": [
              "array([[ 0.57606285, -2.07798784, -0.29406138],\n",
              "       [-0.38527705,  1.00047779,  1.51074731]])"
            ]
          },
          "metadata": {},
          "execution_count": 22
        }
      ]
    },
    {
      "cell_type": "code",
      "source": [
        "np.random.randint(2,10)"
      ],
      "metadata": {
        "colab": {
          "base_uri": "https://localhost:8080/"
        },
        "id": "dtBn96Rq8AmZ",
        "outputId": "3c95bf0e-a97a-463b-9685-361cc77ec723"
      },
      "execution_count": 23,
      "outputs": [
        {
          "output_type": "execute_result",
          "data": {
            "text/plain": [
              "3"
            ]
          },
          "metadata": {},
          "execution_count": 23
        }
      ]
    },
    {
      "cell_type": "code",
      "source": [
        "np.random.randint(10,100,10)"
      ],
      "metadata": {
        "colab": {
          "base_uri": "https://localhost:8080/"
        },
        "id": "e2cq618x8JCf",
        "outputId": "5f09e423-4b8f-469b-b4a2-9e2857ecc90c"
      },
      "execution_count": 24,
      "outputs": [
        {
          "output_type": "execute_result",
          "data": {
            "text/plain": [
              "array([70, 25, 88, 58, 15, 85, 75, 45, 90, 93])"
            ]
          },
          "metadata": {},
          "execution_count": 24
        }
      ]
    },
    {
      "cell_type": "code",
      "source": [
        "even_numbers=np.arange(start=10,stop=100,step=2)\n",
        "print(even_numbers)\n",
        "type(even_numbers)"
      ],
      "metadata": {
        "colab": {
          "base_uri": "https://localhost:8080/"
        },
        "id": "fS1dPXfQ8RIf",
        "outputId": "848a99dd-ad96-415b-9597-e45492199b37"
      },
      "execution_count": 25,
      "outputs": [
        {
          "output_type": "stream",
          "name": "stdout",
          "text": [
            "[10 12 14 16 18 20 22 24 26 28 30 32 34 36 38 40 42 44 46 48 50 52 54 56\n",
            " 58 60 62 64 66 68 70 72 74 76 78 80 82 84 86 88 90 92 94 96 98]\n"
          ]
        },
        {
          "output_type": "execute_result",
          "data": {
            "text/plain": [
              "numpy.ndarray"
            ]
          },
          "metadata": {},
          "execution_count": 25
        }
      ]
    },
    {
      "cell_type": "code",
      "source": [
        "even_numbers=np.arange(start=10,stop=100,step=2)\n",
        "print(even_numbers)\n",
        "type(even_numbers)"
      ],
      "metadata": {
        "colab": {
          "base_uri": "https://localhost:8080/"
        },
        "id": "kc-0ozQJ_OSM",
        "outputId": "06ef9469-acdc-40e8-e64c-b98bcb2fd35a"
      },
      "execution_count": 26,
      "outputs": [
        {
          "output_type": "stream",
          "name": "stdout",
          "text": [
            "[10 12 14 16 18 20 22 24 26 28 30 32 34 36 38 40 42 44 46 48 50 52 54 56\n",
            " 58 60 62 64 66 68 70 72 74 76 78 80 82 84 86 88 90 92 94 96 98]\n"
          ]
        },
        {
          "output_type": "execute_result",
          "data": {
            "text/plain": [
              "numpy.ndarray"
            ]
          },
          "metadata": {},
          "execution_count": 26
        }
      ]
    },
    {
      "cell_type": "code",
      "source": [
        "nums=np.linspace(start=1,stop=100,num=10)\n",
        "print(nums)\n",
        "type(nums)"
      ],
      "metadata": {
        "colab": {
          "base_uri": "https://localhost:8080/"
        },
        "id": "Ct2JIjGIAwYq",
        "outputId": "bc9be68d-44cf-46cf-b2fa-869a6bcfe52c"
      },
      "execution_count": 27,
      "outputs": [
        {
          "output_type": "stream",
          "name": "stdout",
          "text": [
            "[  1.  12.  23.  34.  45.  56.  67.  78.  89. 100.]\n"
          ]
        },
        {
          "output_type": "execute_result",
          "data": {
            "text/plain": [
              "numpy.ndarray"
            ]
          },
          "metadata": {},
          "execution_count": 27
        }
      ]
    },
    {
      "cell_type": "code",
      "source": [
        "nums=np.linspace(start=1,stop=100,num=10)\n",
        "print(nums)\n",
        "type(nums)"
      ],
      "metadata": {
        "colab": {
          "base_uri": "https://localhost:8080/"
        },
        "id": "t4o2BzYJCBhc",
        "outputId": "1425e082-3822-471a-90a9-afbb401c91e8"
      },
      "execution_count": 28,
      "outputs": [
        {
          "output_type": "stream",
          "name": "stdout",
          "text": [
            "[  1.  12.  23.  34.  45.  56.  67.  78.  89. 100.]\n"
          ]
        },
        {
          "output_type": "execute_result",
          "data": {
            "text/plain": [
              "numpy.ndarray"
            ]
          },
          "metadata": {},
          "execution_count": 28
        }
      ]
    },
    {
      "cell_type": "code",
      "source": [
        "np.zeros(10)"
      ],
      "metadata": {
        "colab": {
          "base_uri": "https://localhost:8080/"
        },
        "id": "pvcAQxCFCRBJ",
        "outputId": "1edaec52-6dff-4d8a-9feb-f4a1fa0c5203"
      },
      "execution_count": 29,
      "outputs": [
        {
          "output_type": "execute_result",
          "data": {
            "text/plain": [
              "array([0., 0., 0., 0., 0., 0., 0., 0., 0., 0.])"
            ]
          },
          "metadata": {},
          "execution_count": 29
        }
      ]
    },
    {
      "cell_type": "code",
      "source": [
        "np.ones(10)"
      ],
      "metadata": {
        "colab": {
          "base_uri": "https://localhost:8080/"
        },
        "id": "218u13XcCtfJ",
        "outputId": "24c35d11-6bfe-4c87-b6fc-9cbbb9b1e17b"
      },
      "execution_count": 30,
      "outputs": [
        {
          "output_type": "execute_result",
          "data": {
            "text/plain": [
              "array([1., 1., 1., 1., 1., 1., 1., 1., 1., 1.])"
            ]
          },
          "metadata": {},
          "execution_count": 30
        }
      ]
    },
    {
      "cell_type": "code",
      "source": [
        "matrix=np.empty((3,3),dtype=int)\n",
        "print(matrix)"
      ],
      "metadata": {
        "colab": {
          "base_uri": "https://localhost:8080/"
        },
        "id": "_cXTo9U7Cw8U",
        "outputId": "f85bde1a-50e2-4eec-81ea-c70159bb8646"
      },
      "execution_count": 31,
      "outputs": [
        {
          "output_type": "stream",
          "name": "stdout",
          "text": [
            "[[           22662800                  36                   0]\n",
            " [                  0                   0 7005406607063736886]\n",
            " [3761681506585961773 3258465588949640292 3546413420678571057]]\n"
          ]
        }
      ]
    },
    {
      "cell_type": "code",
      "source": [
        "\n",
        "matrix=np.full((3,3),fill_value=11)\n",
        "print(matrix)"
      ],
      "metadata": {
        "colab": {
          "base_uri": "https://localhost:8080/"
        },
        "id": "WdnX3rWHDiCB",
        "outputId": "16dbde33-ec62-44c4-cbb2-1571c9ca6866"
      },
      "execution_count": 32,
      "outputs": [
        {
          "output_type": "stream",
          "name": "stdout",
          "text": [
            "[[11 11 11]\n",
            " [11 11 11]\n",
            " [11 11 11]]\n"
          ]
        }
      ]
    },
    {
      "cell_type": "code",
      "source": [
        "matrix=np.full((2,2),fill_value=5)\n",
        "print(matrix)"
      ],
      "metadata": {
        "colab": {
          "base_uri": "https://localhost:8080/"
        },
        "id": "fxxv7JQWD8dO",
        "outputId": "e9600e07-02ac-4c64-97f4-1a58235d780e"
      },
      "execution_count": 33,
      "outputs": [
        {
          "output_type": "stream",
          "name": "stdout",
          "text": [
            "[[5 5]\n",
            " [5 5]]\n"
          ]
        }
      ]
    },
    {
      "cell_type": "code",
      "source": [
        "np.identity(5)"
      ],
      "metadata": {
        "colab": {
          "base_uri": "https://localhost:8080/"
        },
        "id": "FZ1BhqGyEgaJ",
        "outputId": "716790a1-97e6-43aa-e146-1ac8300e6385"
      },
      "execution_count": 34,
      "outputs": [
        {
          "output_type": "execute_result",
          "data": {
            "text/plain": [
              "array([[1., 0., 0., 0., 0.],\n",
              "       [0., 1., 0., 0., 0.],\n",
              "       [0., 0., 1., 0., 0.],\n",
              "       [0., 0., 0., 1., 0.],\n",
              "       [0., 0., 0., 0., 1.]])"
            ]
          },
          "metadata": {},
          "execution_count": 34
        }
      ]
    },
    {
      "cell_type": "code",
      "source": [
        "np.identity(3)"
      ],
      "metadata": {
        "colab": {
          "base_uri": "https://localhost:8080/"
        },
        "id": "JKoY39oTEp5V",
        "outputId": "19e542aa-3bd0-4feb-9f17-864bbbc9a842"
      },
      "execution_count": 35,
      "outputs": [
        {
          "output_type": "execute_result",
          "data": {
            "text/plain": [
              "array([[1., 0., 0.],\n",
              "       [0., 1., 0.],\n",
              "       [0., 0., 1.]])"
            ]
          },
          "metadata": {},
          "execution_count": 35
        }
      ]
    },
    {
      "cell_type": "code",
      "source": [
        "np.eye(N=4,M=5,k=0)"
      ],
      "metadata": {
        "colab": {
          "base_uri": "https://localhost:8080/"
        },
        "id": "2USW2-mnFEDn",
        "outputId": "aec3e473-eaec-46a5-9b2b-edefcba4aa32"
      },
      "execution_count": 36,
      "outputs": [
        {
          "output_type": "execute_result",
          "data": {
            "text/plain": [
              "array([[1., 0., 0., 0., 0.],\n",
              "       [0., 1., 0., 0., 0.],\n",
              "       [0., 0., 1., 0., 0.],\n",
              "       [0., 0., 0., 1., 0.]])"
            ]
          },
          "metadata": {},
          "execution_count": 36
        }
      ]
    },
    {
      "cell_type": "code",
      "source": [
        "np.eye(N=4,M=5,k=1)"
      ],
      "metadata": {
        "colab": {
          "base_uri": "https://localhost:8080/"
        },
        "id": "88PGbrYeFUFk",
        "outputId": "75ecfacc-b7a3-4475-85eb-538533d48378"
      },
      "execution_count": 37,
      "outputs": [
        {
          "output_type": "execute_result",
          "data": {
            "text/plain": [
              "array([[0., 1., 0., 0., 0.],\n",
              "       [0., 0., 1., 0., 0.],\n",
              "       [0., 0., 0., 1., 0.],\n",
              "       [0., 0., 0., 0., 1.]])"
            ]
          },
          "metadata": {},
          "execution_count": 37
        }
      ]
    },
    {
      "cell_type": "code",
      "source": [
        "np.eye(N=4,M=5,k=2)"
      ],
      "metadata": {
        "colab": {
          "base_uri": "https://localhost:8080/"
        },
        "id": "dZl3jN-WFaQy",
        "outputId": "1a5a0b96-94e8-44d5-c9f1-655be157d882"
      },
      "execution_count": 38,
      "outputs": [
        {
          "output_type": "execute_result",
          "data": {
            "text/plain": [
              "array([[0., 0., 1., 0., 0.],\n",
              "       [0., 0., 0., 1., 0.],\n",
              "       [0., 0., 0., 0., 1.],\n",
              "       [0., 0., 0., 0., 0.]])"
            ]
          },
          "metadata": {},
          "execution_count": 38
        }
      ]
    },
    {
      "cell_type": "code",
      "source": [
        "np.eye(N=4,M=5,k=3)"
      ],
      "metadata": {
        "colab": {
          "base_uri": "https://localhost:8080/"
        },
        "id": "oXGwMRJmFd5m",
        "outputId": "9de36d06-c6e0-4ddd-a006-55b8e08fdcae"
      },
      "execution_count": 39,
      "outputs": [
        {
          "output_type": "execute_result",
          "data": {
            "text/plain": [
              "array([[0., 0., 0., 1., 0.],\n",
              "       [0., 0., 0., 0., 1.],\n",
              "       [0., 0., 0., 0., 0.],\n",
              "       [0., 0., 0., 0., 0.]])"
            ]
          },
          "metadata": {},
          "execution_count": 39
        }
      ]
    },
    {
      "cell_type": "code",
      "source": [
        "np.eye(N=4,M=5,k=4)"
      ],
      "metadata": {
        "colab": {
          "base_uri": "https://localhost:8080/"
        },
        "id": "ZYKf0uvhFh6h",
        "outputId": "acb701cd-59dc-4ff3-e60a-693187f37166"
      },
      "execution_count": 40,
      "outputs": [
        {
          "output_type": "execute_result",
          "data": {
            "text/plain": [
              "array([[0., 0., 0., 0., 1.],\n",
              "       [0., 0., 0., 0., 0.],\n",
              "       [0., 0., 0., 0., 0.],\n",
              "       [0., 0., 0., 0., 0.]])"
            ]
          },
          "metadata": {},
          "execution_count": 40
        }
      ]
    },
    {
      "cell_type": "code",
      "source": [
        "np.eye(N=4,M=5,k=5)"
      ],
      "metadata": {
        "colab": {
          "base_uri": "https://localhost:8080/"
        },
        "id": "Jf8SHiS-Fk3z",
        "outputId": "7ac307da-c6ad-48aa-8350-2f4ee4a0fbb3"
      },
      "execution_count": 41,
      "outputs": [
        {
          "output_type": "execute_result",
          "data": {
            "text/plain": [
              "array([[0., 0., 0., 0., 0.],\n",
              "       [0., 0., 0., 0., 0.],\n",
              "       [0., 0., 0., 0., 0.],\n",
              "       [0., 0., 0., 0., 0.]])"
            ]
          },
          "metadata": {},
          "execution_count": 41
        }
      ]
    },
    {
      "cell_type": "code",
      "source": [
        "np.eye(N=4,M=5,k=6)"
      ],
      "metadata": {
        "colab": {
          "base_uri": "https://localhost:8080/"
        },
        "id": "yzyIe6qDFohp",
        "outputId": "93bf95f5-0843-42fc-b79e-e55dbccb325d"
      },
      "execution_count": 42,
      "outputs": [
        {
          "output_type": "execute_result",
          "data": {
            "text/plain": [
              "array([[0., 0., 0., 0., 0.],\n",
              "       [0., 0., 0., 0., 0.],\n",
              "       [0., 0., 0., 0., 0.],\n",
              "       [0., 0., 0., 0., 0.]])"
            ]
          },
          "metadata": {},
          "execution_count": 42
        }
      ]
    },
    {
      "cell_type": "code",
      "source": [
        "np.eye(N=4,M=5,k=-1)"
      ],
      "metadata": {
        "colab": {
          "base_uri": "https://localhost:8080/"
        },
        "id": "R0_x5JmQFrYT",
        "outputId": "2de58c1c-a4d9-4dd2-eeb7-0e2c5dda9562"
      },
      "execution_count": 43,
      "outputs": [
        {
          "output_type": "execute_result",
          "data": {
            "text/plain": [
              "array([[0., 0., 0., 0., 0.],\n",
              "       [1., 0., 0., 0., 0.],\n",
              "       [0., 1., 0., 0., 0.],\n",
              "       [0., 0., 1., 0., 0.]])"
            ]
          },
          "metadata": {},
          "execution_count": 43
        }
      ]
    },
    {
      "cell_type": "code",
      "source": [
        "np.eye(N=4,M=5,k=-2)"
      ],
      "metadata": {
        "colab": {
          "base_uri": "https://localhost:8080/"
        },
        "id": "IIdYkcuhF3YN",
        "outputId": "99d65752-1b29-4c99-b3bf-9fe5f2ec14b0"
      },
      "execution_count": 44,
      "outputs": [
        {
          "output_type": "execute_result",
          "data": {
            "text/plain": [
              "array([[0., 0., 0., 0., 0.],\n",
              "       [0., 0., 0., 0., 0.],\n",
              "       [1., 0., 0., 0., 0.],\n",
              "       [0., 1., 0., 0., 0.]])"
            ]
          },
          "metadata": {},
          "execution_count": 44
        }
      ]
    },
    {
      "cell_type": "code",
      "source": [
        "np.eye(N=4,M=5,k=-3)"
      ],
      "metadata": {
        "colab": {
          "base_uri": "https://localhost:8080/"
        },
        "id": "GOC184gjGa43",
        "outputId": "04d7d384-631f-49f5-d9da-283c7f8c5b86"
      },
      "execution_count": 45,
      "outputs": [
        {
          "output_type": "execute_result",
          "data": {
            "text/plain": [
              "array([[0., 0., 0., 0., 0.],\n",
              "       [0., 0., 0., 0., 0.],\n",
              "       [0., 0., 0., 0., 0.],\n",
              "       [1., 0., 0., 0., 0.]])"
            ]
          },
          "metadata": {},
          "execution_count": 45
        }
      ]
    },
    {
      "cell_type": "code",
      "source": [
        "books=np.array([('Learn Python','Data Science Journal','Scada for Data Science'),(20,23,28)])\n",
        "print('Shape of the array is:',books.shape)"
      ],
      "metadata": {
        "colab": {
          "base_uri": "https://localhost:8080/"
        },
        "id": "FEEicGX1G18i",
        "outputId": "b6e355ad-c3a8-483d-abec-b04aaa8ff7a3"
      },
      "execution_count": 46,
      "outputs": [
        {
          "output_type": "stream",
          "name": "stdout",
          "text": [
            "Shape of the array is: (2, 3)\n"
          ]
        }
      ]
    },
    {
      "cell_type": "code",
      "source": [
        "books=np.array([('Learn Python','Data Science Journal','Scada for Data Science'),(20,23,28)])\n",
        "print('Shape of the array is:',books.size)"
      ],
      "metadata": {
        "colab": {
          "base_uri": "https://localhost:8080/"
        },
        "id": "24l3AtAdINXq",
        "outputId": "992ef918-3a7f-4fea-c75b-d2aaaf04a509"
      },
      "execution_count": 47,
      "outputs": [
        {
          "output_type": "stream",
          "name": "stdout",
          "text": [
            "Shape of the array is: 6\n"
          ]
        }
      ]
    },
    {
      "cell_type": "code",
      "source": [
        "books=np.array([('Learn Python','Data Science Journal','Scada for Data Science','Python For Machine Learning'),(15,20,23,28)])\n",
        "print('Shape of the array is:',books.shape)"
      ],
      "metadata": {
        "colab": {
          "base_uri": "https://localhost:8080/"
        },
        "id": "rw1P7HDoISMd",
        "outputId": "417fff7b-d247-443f-91c4-a37c223ae941"
      },
      "execution_count": 48,
      "outputs": [
        {
          "output_type": "stream",
          "name": "stdout",
          "text": [
            "Shape of the array is: (2, 4)\n"
          ]
        }
      ]
    },
    {
      "cell_type": "code",
      "source": [
        "books=np.array([('Learn Python','Data Science Journal','Scada for Data Science','Python For Machine Learning'),(15,20,23,28)])\n",
        "print('Shape of the array is:',books.size)"
      ],
      "metadata": {
        "colab": {
          "base_uri": "https://localhost:8080/"
        },
        "id": "qoQjr4nSIpJJ",
        "outputId": "4d639176-5c2a-4eac-d992-32c13d82e002"
      },
      "execution_count": 49,
      "outputs": [
        {
          "output_type": "stream",
          "name": "stdout",
          "text": [
            "Shape of the array is: 8\n"
          ]
        }
      ]
    },
    {
      "cell_type": "code",
      "source": [
        "weight_age=np.array([(3.2,5.5,7.3),(1,2.3,6.1)])\n",
        "print('Number of element in array:',weight_age.dtype)"
      ],
      "metadata": {
        "colab": {
          "base_uri": "https://localhost:8080/"
        },
        "id": "0qQZzzVaI7k5",
        "outputId": "3efef689-751f-4f76-8c0f-5c7dec0678e7"
      },
      "execution_count": 50,
      "outputs": [
        {
          "output_type": "stream",
          "name": "stdout",
          "text": [
            "Number of element in array: float64\n"
          ]
        }
      ]
    },
    {
      "cell_type": "code",
      "source": [
        "books=np.array([('Learn Python','Data Science Journal','Scada for Data Science'),(20,23,28)])\n",
        "print('Shape of the array is:',books.ndim)"
      ],
      "metadata": {
        "colab": {
          "base_uri": "https://localhost:8080/"
        },
        "id": "ofXNLTJYJwl6",
        "outputId": "1224911b-32e6-4822-811e-a5b00a7853ec"
      },
      "execution_count": 51,
      "outputs": [
        {
          "output_type": "stream",
          "name": "stdout",
          "text": [
            "Shape of the array is: 2\n"
          ]
        }
      ]
    },
    {
      "cell_type": "code",
      "source": [
        "books=np.array([('Learn Python',20),('Data Science Journal',23),('Scada for Data Science',28)])\n",
        "print('Created array is:',books)\n",
        "books_reshape=books.reshape(6,1)\n",
        "print('\\nreshape books:',books_reshape)"
      ],
      "metadata": {
        "colab": {
          "base_uri": "https://localhost:8080/"
        },
        "id": "XNMUKM4VKnkY",
        "outputId": "c395439d-2723-4a53-931e-e4fb8a721843"
      },
      "execution_count": 52,
      "outputs": [
        {
          "output_type": "stream",
          "name": "stdout",
          "text": [
            "Created array is: [['Learn Python' '20']\n",
            " ['Data Science Journal' '23']\n",
            " ['Scada for Data Science' '28']]\n",
            "\n",
            "reshape books: [['Learn Python']\n",
            " ['20']\n",
            " ['Data Science Journal']\n",
            " ['23']\n",
            " ['Scada for Data Science']\n",
            " ['28']]\n"
          ]
        }
      ]
    },
    {
      "cell_type": "code",
      "source": [
        "names=np.array([('Rahul',28),('Laxmi',28),('Deepak',34)])\n",
        "print('Created array:',names)\n",
        "names_reshape=names.reshape(6,1)\n",
        "print('\\nreshape names:',names_reshape)"
      ],
      "metadata": {
        "colab": {
          "base_uri": "https://localhost:8080/"
        },
        "id": "CO1qKdfaMZCB",
        "outputId": "41737267-3a16-4310-974e-d8bb73d7b6d1"
      },
      "execution_count": 54,
      "outputs": [
        {
          "output_type": "stream",
          "name": "stdout",
          "text": [
            "Created array: [['Rahul' '28']\n",
            " ['Laxmi' '28']\n",
            " ['Deepak' '34']]\n",
            "\n",
            "reshape names: [['Rahul']\n",
            " ['28']\n",
            " ['Laxmi']\n",
            " ['28']\n",
            " ['Deepak']\n",
            " ['34']]\n"
          ]
        }
      ]
    },
    {
      "cell_type": "code",
      "source": [
        "names=np.array([('Rahul',28),('Laxmi',28),('Deepak',34),('Bablu',31),('Sikandar',26),('Phunnan',33)])\n",
        "print('Created array:',names)\n",
        "names_reshape=names.reshape(12,1)\n",
        "print('\\nreshape names:',names_reshape)"
      ],
      "metadata": {
        "colab": {
          "base_uri": "https://localhost:8080/"
        },
        "id": "tVzI8WolPHyX",
        "outputId": "8322b75f-ef2f-450d-bd4a-fe7a8e7b70ea"
      },
      "execution_count": 55,
      "outputs": [
        {
          "output_type": "stream",
          "name": "stdout",
          "text": [
            "Created array: [['Rahul' '28']\n",
            " ['Laxmi' '28']\n",
            " ['Deepak' '34']\n",
            " ['Bablu' '31']\n",
            " ['Sikandar' '26']\n",
            " ['Phunnan' '33']]\n",
            "\n",
            "reshape names: [['Rahul']\n",
            " ['28']\n",
            " ['Laxmi']\n",
            " ['28']\n",
            " ['Deepak']\n",
            " ['34']\n",
            " ['Bablu']\n",
            " ['31']\n",
            " ['Sikandar']\n",
            " ['26']\n",
            " ['Phunnan']\n",
            " ['33']]\n"
          ]
        }
      ]
    },
    {
      "cell_type": "code",
      "source": [
        "names=np.array([('Rahul',28),('Laxmi',28),('Deepak',34),('Bablu',31),('Sikandar',26),('Phunnan',33)])\n",
        "print('name in last element:',names[-1])"
      ],
      "metadata": {
        "colab": {
          "base_uri": "https://localhost:8080/"
        },
        "id": "BQCW-1w9PXto",
        "outputId": "96e00899-17b0-46c4-927f-1f1d2840143f"
      },
      "execution_count": 56,
      "outputs": [
        {
          "output_type": "stream",
          "name": "stdout",
          "text": [
            "name in last element: ['Phunnan' '33']\n"
          ]
        }
      ]
    },
    {
      "cell_type": "code",
      "source": [
        "names=np.array([('Rahul',28),('Laxmi',28),('Deepak',34),('Bablu',31),('Sikandar',26),('Phunnan',33)])\n",
        "print('Element at position 1:',names[1])"
      ],
      "metadata": {
        "colab": {
          "base_uri": "https://localhost:8080/"
        },
        "id": "QTuRIGJgQGpA",
        "outputId": "1b364e50-a061-426e-e988-9b0f0ce4e0a8"
      },
      "execution_count": 57,
      "outputs": [
        {
          "output_type": "stream",
          "name": "stdout",
          "text": [
            "Element at position 1: ['Laxmi' '28']\n"
          ]
        }
      ]
    },
    {
      "cell_type": "code",
      "source": [
        "names[0][1]"
      ],
      "metadata": {
        "colab": {
          "base_uri": "https://localhost:8080/",
          "height": 36
        },
        "id": "M2UK763YVaJH",
        "outputId": "4ecc2e2c-156f-427a-cc66-eafcd5ac74fd"
      },
      "execution_count": 58,
      "outputs": [
        {
          "output_type": "execute_result",
          "data": {
            "text/plain": [
              "'28'"
            ],
            "application/vnd.google.colaboratory.intrinsic+json": {
              "type": "string"
            }
          },
          "metadata": {},
          "execution_count": 58
        }
      ]
    },
    {
      "cell_type": "code",
      "source": [
        "names[0],[-1]"
      ],
      "metadata": {
        "colab": {
          "base_uri": "https://localhost:8080/"
        },
        "id": "AYvVUsG1VrBC",
        "outputId": "aaad87c7-706d-4a80-84a7-c3b23cf66214"
      },
      "execution_count": 59,
      "outputs": [
        {
          "output_type": "execute_result",
          "data": {
            "text/plain": [
              "(array(['Rahul', '28'], dtype='<U21'), [-1])"
            ]
          },
          "metadata": {},
          "execution_count": 59
        }
      ]
    },
    {
      "cell_type": "code",
      "source": [
        "weight=np.array([50,43,56,48,55.5,76,82,65])\n",
        "print('4th and 5th Element\"',weight[3:5])"
      ],
      "metadata": {
        "colab": {
          "base_uri": "https://localhost:8080/"
        },
        "id": "MDGCLZwVWA_V",
        "outputId": "bc0482e7-b0da-4533-de45-85dfa30e4aab"
      },
      "execution_count": 60,
      "outputs": [
        {
          "output_type": "stream",
          "name": "stdout",
          "text": [
            "4th and 5th Element\" [48.  55.5]\n"
          ]
        }
      ]
    },
    {
      "cell_type": "code",
      "source": [
        "weight=np.array([50,43,56,48,55.5,76,82,65])\n",
        "print('7th and 8th Element\"',weight[5:7])"
      ],
      "metadata": {
        "colab": {
          "base_uri": "https://localhost:8080/"
        },
        "id": "w6AsiWJYYxMy",
        "outputId": "b01be015-5af4-473f-c923-10c756aca0c1"
      },
      "execution_count": 61,
      "outputs": [
        {
          "output_type": "stream",
          "name": "stdout",
          "text": [
            "7th and 8th Element\" [76. 82.]\n"
          ]
        }
      ]
    },
    {
      "cell_type": "code",
      "source": [
        "weight=np.array([50,43,56,48,55.5,76,82,65])\n",
        "print('2nd and 3rd Element\"',weight[1:3])"
      ],
      "metadata": {
        "colab": {
          "base_uri": "https://localhost:8080/"
        },
        "id": "_IyC5p_ZZGtk",
        "outputId": "ab654a19-24eb-4bf4-fc42-21f3534362dd"
      },
      "execution_count": 62,
      "outputs": [
        {
          "output_type": "stream",
          "name": "stdout",
          "text": [
            "2nd and 3rd Element\" [43. 56.]\n"
          ]
        }
      ]
    },
    {
      "cell_type": "code",
      "source": [
        "weight=np.array([50,43,56,48,55.5,76,82,65])\n",
        "print('Every 3rd Element:',weight[0::3])"
      ],
      "metadata": {
        "colab": {
          "base_uri": "https://localhost:8080/"
        },
        "id": "xIoQnXONZgbU",
        "outputId": "839ba44a-84c3-44db-feda-1e2f8be356ba"
      },
      "execution_count": 63,
      "outputs": [
        {
          "output_type": "stream",
          "name": "stdout",
          "text": [
            "Every 3rd Element: [50. 48. 82.]\n"
          ]
        }
      ]
    },
    {
      "cell_type": "code",
      "source": [
        "weight=np.array([50,43,56,48,55.5,76,82,65])\n",
        "print('Every 6th Element:',weight[1::6])"
      ],
      "metadata": {
        "colab": {
          "base_uri": "https://localhost:8080/"
        },
        "id": "UreWAmBVaHoR",
        "outputId": "0b0c5741-1b93-493c-b1c9-bbf2ffa64289"
      },
      "execution_count": 64,
      "outputs": [
        {
          "output_type": "stream",
          "name": "stdout",
          "text": [
            "Every 6th Element: [43. 65.]\n"
          ]
        }
      ]
    },
    {
      "cell_type": "code",
      "source": [
        "weight=np.array([50,43,56,48,55.5,76,82,65])\n",
        "print('Element Before 76:',weight[:5])"
      ],
      "metadata": {
        "colab": {
          "base_uri": "https://localhost:8080/"
        },
        "id": "xW-V5PTtaVXW",
        "outputId": "1c576fa9-eed3-45c5-b5de-40888793c793"
      },
      "execution_count": 65,
      "outputs": [
        {
          "output_type": "stream",
          "name": "stdout",
          "text": [
            "Element Before 76: [50.  43.  56.  48.  55.5]\n"
          ]
        }
      ]
    },
    {
      "cell_type": "code",
      "source": [
        "weight=np.array([50,43,56,48,55.5,76,82,65])\n",
        "print('7th and 8th Element\"',weight[5:7])\n",
        "print('Every 3rd Element:',weight[0::3])\n",
        "print('Element Before 76:',weight[:5])\n",
        "\n"
      ],
      "metadata": {
        "colab": {
          "base_uri": "https://localhost:8080/"
        },
        "id": "VPwYNyhWbB-1",
        "outputId": "277d26a1-35e5-4584-fb19-7826d91bd760"
      },
      "execution_count": 66,
      "outputs": [
        {
          "output_type": "stream",
          "name": "stdout",
          "text": [
            "7th and 8th Element\" [76. 82.]\n",
            "Every 3rd Element: [50. 48. 82.]\n",
            "Element Before 76: [50.  43.  56.  48.  55.5]\n"
          ]
        }
      ]
    },
    {
      "cell_type": "code",
      "source": [
        "age=np.array([(54,92,14,25),(68,19,28,32)])\n",
        "print('\\nElements in 1st row and 1st three column:',age[0,0:3])"
      ],
      "metadata": {
        "colab": {
          "base_uri": "https://localhost:8080/"
        },
        "id": "ljd2V13Nbcau",
        "outputId": "c5b9f2d8-7cf5-4be6-ca01-31cb75fb1a80"
      },
      "execution_count": 67,
      "outputs": [
        {
          "output_type": "stream",
          "name": "stdout",
          "text": [
            "\n",
            "Elements in 1st row and 1st three column: [54 92 14]\n"
          ]
        }
      ]
    },
    {
      "cell_type": "code",
      "source": [
        "age=np.array([(54,92,14,25),(68,19,28,32)])\n",
        "print('\\nElements in 2nd row and 2nd and 4th column:',age[1,1:])"
      ],
      "metadata": {
        "colab": {
          "base_uri": "https://localhost:8080/"
        },
        "id": "BoMsQoCrgrI5",
        "outputId": "21e38233-2e29-4c3e-9d1d-c83e5daff2f2"
      },
      "execution_count": 68,
      "outputs": [
        {
          "output_type": "stream",
          "name": "stdout",
          "text": [
            "\n",
            "Elements in 2nd row and 2nd and 4th column: [19 28 32]\n"
          ]
        }
      ]
    },
    {
      "cell_type": "code",
      "source": [
        "rahul=np.array([(85,75,54,32,68,95)])\n",
        "print('\\nElement in 1st row and 1st three column:',rahul[0,0:4])"
      ],
      "metadata": {
        "colab": {
          "base_uri": "https://localhost:8080/"
        },
        "id": "xWN9DuZriLl0",
        "outputId": "f308b74b-e510-4555-9e72-eefac12601f5"
      },
      "execution_count": 69,
      "outputs": [
        {
          "output_type": "stream",
          "name": "stdout",
          "text": [
            "\n",
            "Element in 1st row and 1st three column: [85 75 54 32]\n"
          ]
        }
      ]
    },
    {
      "cell_type": "code",
      "source": [
        "#Arithmetic Opearator\n",
        "odd_nums=np.array([3,7,5,9])\n",
        "print('odd nums:',odd_nums)\n",
        "evn_nums=np.array([8,10,4,2])\n",
        "print('even_nums:',evn_nums)\n",
        "sum=odd_nums+evn_nums\n",
        "print('addition:',sum)\n",
        "sub=odd_nums-evn_nums\n",
        "print('substraction:',sub)\n"
      ],
      "metadata": {
        "colab": {
          "base_uri": "https://localhost:8080/"
        },
        "id": "LNGvs0nl6xHg",
        "outputId": "94a31e1e-5ce8-4c2d-fe88-b1c90109228c"
      },
      "execution_count": 70,
      "outputs": [
        {
          "output_type": "stream",
          "name": "stdout",
          "text": [
            "odd nums: [3 7 5 9]\n",
            "even_nums: [ 8 10  4  2]\n",
            "addition: [11 17  9 11]\n",
            "substraction: [-5 -3  1  7]\n"
          ]
        }
      ]
    },
    {
      "cell_type": "code",
      "source": [
        "nums=np.array([3,7,5,9])\n",
        "print('New Numbers:',nums*2)"
      ],
      "metadata": {
        "colab": {
          "base_uri": "https://localhost:8080/"
        },
        "id": "c_sjg7309T19",
        "outputId": "75852ba4-18da-453b-fcfb-45118d3fa6f9"
      },
      "execution_count": 71,
      "outputs": [
        {
          "output_type": "stream",
          "name": "stdout",
          "text": [
            "New Numbers: [ 6 14 10 18]\n"
          ]
        }
      ]
    },
    {
      "cell_type": "code",
      "source": [
        "m1=np.array([[1,0,2],[4,-2,3]])\n",
        "m2=np.array([[4,0,1],[2,3,0]])\n",
        "prod=m1*m2\n",
        "print('Element-wise Multiplication:\\n',prod)\n"
      ],
      "metadata": {
        "colab": {
          "base_uri": "https://localhost:8080/"
        },
        "id": "XK_S1Efn9jbF",
        "outputId": "632441f5-a7cf-4cae-d5e6-fbaad0a8af2e"
      },
      "execution_count": 72,
      "outputs": [
        {
          "output_type": "stream",
          "name": "stdout",
          "text": [
            "Element-wise Multiplication:\n",
            " [[ 4  0  2]\n",
            " [ 8 -6  0]]\n"
          ]
        }
      ]
    },
    {
      "cell_type": "code",
      "source": [
        "m1=np.array([[2,3,5],[5,6,9]])\n",
        "m2=np.array([[6,5,3],[5,4,6]])\n",
        "prod=m1*m2\n",
        "print('Element wise Multiplication:\\n',prod)"
      ],
      "metadata": {
        "colab": {
          "base_uri": "https://localhost:8080/"
        },
        "id": "H85fwObd-69M",
        "outputId": "e923094d-47b2-445d-b5db-18d4c5e066d2"
      },
      "execution_count": 73,
      "outputs": [
        {
          "output_type": "stream",
          "name": "stdout",
          "text": [
            "Element wise Multiplication:\n",
            " [[12 15 15]\n",
            " [25 24 54]]\n"
          ]
        }
      ]
    },
    {
      "cell_type": "code",
      "source": [
        "#Mareix Multiplication\n",
        "m1=np.array([[1,0,2],[4,-2,3]])\n",
        "m2=np.array([[4,0],[2,3],[1,4]])\n",
        "multi=m1.dot(m2)\n",
        "print('Matrix Multiplication:\\n',multi)"
      ],
      "metadata": {
        "colab": {
          "base_uri": "https://localhost:8080/"
        },
        "id": "bJV_aNC__rgy",
        "outputId": "6d6742fa-b703-4104-a92b-5eaf19489e95"
      },
      "execution_count": 74,
      "outputs": [
        {
          "output_type": "stream",
          "name": "stdout",
          "text": [
            "Matrix Multiplication:\n",
            " [[ 6  8]\n",
            " [15  6]]\n"
          ]
        }
      ]
    },
    {
      "cell_type": "code",
      "source": [
        "salary=np.array([20000,50000,60000,15000,250000,36000])\n",
        "print('Maximum salary in array:',salary.min())"
      ],
      "metadata": {
        "colab": {
          "base_uri": "https://localhost:8080/"
        },
        "id": "KYmMeq_IAeF0",
        "outputId": "140aa9a8-7e4e-4c24-b267-f5ff7ec34169"
      },
      "execution_count": 75,
      "outputs": [
        {
          "output_type": "stream",
          "name": "stdout",
          "text": [
            "Maximum salary in array: 15000\n"
          ]
        }
      ]
    },
    {
      "cell_type": "code",
      "source": [
        "salary=np.array([20000,50000,60000,15000,250000,36000])\n",
        "print('Maximum salary in array:',salary.max())"
      ],
      "metadata": {
        "id": "3i8if_r_BADw"
      },
      "execution_count": null,
      "outputs": []
    },
    {
      "cell_type": "code",
      "source": [
        "salary=np.array([20000,50000,60000,15000,250000,36000])\n",
        "print('Maximum salary in array:',salary.var())"
      ],
      "metadata": {
        "id": "gAKtVRzxBOV4"
      },
      "execution_count": null,
      "outputs": []
    },
    {
      "cell_type": "code",
      "source": [
        "salary=np.array([20000,50000,60000,15000,250000,36000])\n",
        "print('Maximum salary in array:',salary.std())"
      ],
      "metadata": {
        "colab": {
          "base_uri": "https://localhost:8080/"
        },
        "id": "W5Rq4gpPBUy9",
        "outputId": "3173f0f0-53cc-4204-ba66-6bfa8fcb5aec"
      },
      "execution_count": 76,
      "outputs": [
        {
          "output_type": "stream",
          "name": "stdout",
          "text": [
            "Maximum salary in array: 81200.198412456\n"
          ]
        }
      ]
    },
    {
      "cell_type": "code",
      "source": [
        "side=np.array([20,50,60,15,25,36])\n",
        "print('Area of side:',np.square(side))"
      ],
      "metadata": {
        "colab": {
          "base_uri": "https://localhost:8080/"
        },
        "id": "EJ3K_chQBjE2",
        "outputId": "56b06d1f-521c-4fed-cac4-937af304bf35"
      },
      "execution_count": 77,
      "outputs": [
        {
          "output_type": "stream",
          "name": "stdout",
          "text": [
            "Area of side: [ 400 2500 3600  225  625 1296]\n"
          ]
        }
      ]
    },
    {
      "cell_type": "code",
      "source": [
        "side=np.array([20,50,60,15,25,36])\n",
        "print('Volume of side:',np.power(side,3))"
      ],
      "metadata": {
        "colab": {
          "base_uri": "https://localhost:8080/"
        },
        "id": "8RDzbQT6CUF6",
        "outputId": "aa69d541-8f3a-48bf-a7a0-287d6f037ca1"
      },
      "execution_count": 78,
      "outputs": [
        {
          "output_type": "stream",
          "name": "stdout",
          "text": [
            "Volume of side: [  8000 125000 216000   3375  15625  46656]\n"
          ]
        }
      ]
    },
    {
      "cell_type": "code",
      "source": [
        "data_scientists=([('Rahul',25),('Laxmi',35),('Umesh',45)])\n",
        "print('\\nOriginal Matrix:',data_scientists)\n",
        "print('\\ntranspose:',np.transpose(data_scientists))"
      ],
      "metadata": {
        "colab": {
          "base_uri": "https://localhost:8080/"
        },
        "id": "hQ8O6BFRCsoD",
        "outputId": "2215e3a4-2094-4ae6-f3a4-016b1c790aff"
      },
      "execution_count": 79,
      "outputs": [
        {
          "output_type": "stream",
          "name": "stdout",
          "text": [
            "\n",
            "Original Matrix: [('Rahul', 25), ('Laxmi', 35), ('Umesh', 45)]\n",
            "\n",
            "transpose: [['Rahul' 'Laxmi' 'Umesh']\n",
            " ['25' '35' '45']]\n"
          ]
        }
      ]
    }
  ]
}